{
  "nbformat": 4,
  "nbformat_minor": 0,
  "metadata": {
    "colab": {
      "provenance": [],
      "toc_visible": true
    },
    "kernelspec": {
      "name": "python3",
      "display_name": "Python 3"
    },
    "language_info": {
      "name": "python"
    }
  },
  "cells": [
    {
      "cell_type": "markdown",
      "source": [
        "Data Cleaning and Normalization\n",
        "\n",
        "Definition:\n",
        "\n",
        "• Data Cleaning: Data cleaning involves identifying and correcting (or removing) errors and inconsistencies in data to improve its quality. Common tasks include handling missing values,\n",
        "  removing duplicates, correcting errors, and ensuring consistency in data formats.\n",
        "\n",
        "• Normalization: Normalization is the process of scaling numerical data to a standard range, typically between 0 and 1, or transforming it to have a mean of 0 and a standard deviation of 1.\n",
        "  This process helps improve the performance of machine learning algorithms and ensures that all features contribute equally to the result.\n",
        "\n",
        "Use Case in Real Life:\n",
        "\n",
        "• Preparing Data for Machine Learning: Handle missing values and remove duplicates to ensure clean data. Normalize features to improve the performance of machine learning algorithms.\n",
        "\n",
        "• Financial Data Analysis: Correct errors in transaction data and fill missing values. Normalize financial metrics for comparison across different scales.\n",
        "\n",
        "• Customer Data Management: Ensure consistency in customer records and correct erroneous entries. Normalize customer age and income data for segmentation analysis.\n"
      ],
      "metadata": {
        "id": "48GZcY2_xRQi"
      }
    },
    {
      "cell_type": "markdown",
      "source": [
        "Loading the Dataset"
      ],
      "metadata": {
        "id": "YqtT-Y5mx2V7"
      }
    },
    {
      "cell_type": "code",
      "source": [
        "import pandas as pd\n",
        "#Load the dataset\n",
        "df = pd.read_csv('sample_data (1).csv')\n",
        "print(df)\n"
      ],
      "metadata": {
        "id": "ODfLxFDcx8Yz",
        "colab": {
          "base_uri": "https://localhost:8080/"
        },
        "outputId": "3f3c4b44-d65c-4c04-d1a1-1681ef2b11ea"
      },
      "execution_count": 9,
      "outputs": [
        {
          "output_type": "stream",
          "name": "stdout",
          "text": [
            "      Name   Age   Salary   Department\n",
            "0    Alice  25.0  50000.0           HR\n",
            "1      Bob  30.0      NaN  Engineering\n",
            "2  Charlie  35.0  70000.0  Engineering\n",
            "3    David   NaN  60000.0           HR\n",
            "4      Eve  28.0  80000.0           HR\n",
            "5    Frank  40.0  55000.0        Sales\n",
            "6    Grace  50.0  85000.0        Sales\n",
            "7     Hank  60.0  90000.0        Sales\n"
          ]
        }
      ]
    },
    {
      "cell_type": "code",
      "source": [
        "#Identifying Missing Values\n",
        "\n",
        "# Check for missing values\n",
        "print(df.isnull().sum())\n",
        "\n",
        "df.info()"
      ],
      "metadata": {
        "colab": {
          "base_uri": "https://localhost:8080/"
        },
        "id": "4Apk_6VG3RTc",
        "outputId": "f0674f44-e3b9-481b-a977-aa1611849b76"
      },
      "execution_count": 10,
      "outputs": [
        {
          "output_type": "stream",
          "name": "stdout",
          "text": [
            "Name          0\n",
            "Age           1\n",
            "Salary        1\n",
            "Department    0\n",
            "dtype: int64\n",
            "<class 'pandas.core.frame.DataFrame'>\n",
            "RangeIndex: 8 entries, 0 to 7\n",
            "Data columns (total 4 columns):\n",
            " #   Column      Non-Null Count  Dtype  \n",
            "---  ------      --------------  -----  \n",
            " 0   Name        8 non-null      object \n",
            " 1   Age         7 non-null      float64\n",
            " 2   Salary      7 non-null      float64\n",
            " 3   Department  8 non-null      object \n",
            "dtypes: float64(2), object(2)\n",
            "memory usage: 384.0+ bytes\n"
          ]
        }
      ]
    },
    {
      "cell_type": "code",
      "source": [
        "df.info()"
      ],
      "metadata": {
        "colab": {
          "base_uri": "https://localhost:8080/"
        },
        "id": "eTb1tG2t6M61",
        "outputId": "3822b4c4-3b61-4b09-804b-8de5b136a8a1"
      },
      "execution_count": 11,
      "outputs": [
        {
          "output_type": "stream",
          "name": "stdout",
          "text": [
            "<class 'pandas.core.frame.DataFrame'>\n",
            "RangeIndex: 8 entries, 0 to 7\n",
            "Data columns (total 4 columns):\n",
            " #   Column      Non-Null Count  Dtype  \n",
            "---  ------      --------------  -----  \n",
            " 0   Name        8 non-null      object \n",
            " 1   Age         7 non-null      float64\n",
            " 2   Salary      7 non-null      float64\n",
            " 3   Department  8 non-null      object \n",
            "dtypes: float64(2), object(2)\n",
            "memory usage: 384.0+ bytes\n"
          ]
        }
      ]
    },
    {
      "cell_type": "markdown",
      "source": [
        "**Removing rows with Missing value**"
      ],
      "metadata": {
        "id": "9XLUuu0u6xlZ"
      }
    },
    {
      "cell_type": "code",
      "source": [
        "#Remove rows with any missing values\n",
        "df_cleaned = df.dropna()\n",
        "print(df_cleaned)"
      ],
      "metadata": {
        "colab": {
          "base_uri": "https://localhost:8080/"
        },
        "id": "_qZ1zZRL62ue",
        "outputId": "92379c6a-65db-4f80-dc57-4055099b1a0a"
      },
      "execution_count": 12,
      "outputs": [
        {
          "output_type": "stream",
          "name": "stdout",
          "text": [
            "      Name   Age   Salary   Department\n",
            "0    Alice  25.0  50000.0           HR\n",
            "2  Charlie  35.0  70000.0  Engineering\n",
            "4      Eve  28.0  80000.0           HR\n",
            "5    Frank  40.0  55000.0        Sales\n",
            "6    Grace  50.0  85000.0        Sales\n",
            "7     Hank  60.0  90000.0        Sales\n"
          ]
        }
      ]
    },
    {
      "cell_type": "markdown",
      "source": [
        "Filling Missing Value"
      ],
      "metadata": {
        "id": "XYEh7nTZ7phd"
      }
    },
    {
      "cell_type": "code",
      "source": [
        "# Fill missing values with a specific value\n",
        "df_filled = df.fillna({\n",
        "'Age': df['Age'].mean(),\n",
        "'Salary': df['Salary'].mean()\n",
        "})\n",
        "print(df_filled)"
      ],
      "metadata": {
        "colab": {
          "base_uri": "https://localhost:8080/"
        },
        "id": "WdIbpxvD7snP",
        "outputId": "f7dc2c55-b029-4223-cd35-14b4350218e5"
      },
      "execution_count": 13,
      "outputs": [
        {
          "output_type": "stream",
          "name": "stdout",
          "text": [
            "      Name        Age   Salary   Department\n",
            "0    Alice  25.000000  50000.0           HR\n",
            "1      Bob  30.000000  70000.0  Engineering\n",
            "2  Charlie  35.000000  70000.0  Engineering\n",
            "3    David  38.285714  60000.0           HR\n",
            "4      Eve  28.000000  80000.0           HR\n",
            "5    Frank  40.000000  55000.0        Sales\n",
            "6    Grace  50.000000  85000.0        Sales\n",
            "7     Hank  60.000000  90000.0        Sales\n"
          ]
        }
      ]
    },
    {
      "cell_type": "markdown",
      "source": [
        "Forward fill method"
      ],
      "metadata": {
        "id": "ecPxWr1XXFLD"
      }
    },
    {
      "cell_type": "code",
      "source": [
        "# Forward fill method to propagate the next values backward\n",
        "df_ffill= df.fillna (method='ffill')\n",
        "print(df_ffill)"
      ],
      "metadata": {
        "colab": {
          "base_uri": "https://localhost:8080/"
        },
        "id": "kLMZCdDYXHul",
        "outputId": "cc551ede-b26a-4e34-fe9f-04140a5507c7"
      },
      "execution_count": 14,
      "outputs": [
        {
          "output_type": "stream",
          "name": "stdout",
          "text": [
            "      Name   Age   Salary   Department\n",
            "0    Alice  25.0  50000.0           HR\n",
            "1      Bob  30.0  50000.0  Engineering\n",
            "2  Charlie  35.0  70000.0  Engineering\n",
            "3    David  35.0  60000.0           HR\n",
            "4      Eve  28.0  80000.0           HR\n",
            "5    Frank  40.0  55000.0        Sales\n",
            "6    Grace  50.0  85000.0        Sales\n",
            "7     Hank  60.0  90000.0        Sales\n"
          ]
        }
      ]
    },
    {
      "cell_type": "markdown",
      "source": [
        "Backward fill method"
      ],
      "metadata": {
        "id": "vVILipaHZYlm"
      }
    },
    {
      "cell_type": "code",
      "source": [
        "# Backward fill method to propagate the next values forward\n",
        "df_bfill = df.fillna (method='bfill')\n",
        "print(df_bfill)"
      ],
      "metadata": {
        "colab": {
          "base_uri": "https://localhost:8080/"
        },
        "id": "aWATSY-7ZfkW",
        "outputId": "e37a7bfd-9183-4bc4-f57a-553b4a68e9f8"
      },
      "execution_count": 15,
      "outputs": [
        {
          "output_type": "stream",
          "name": "stdout",
          "text": [
            "      Name   Age   Salary   Department\n",
            "0    Alice  25.0  50000.0           HR\n",
            "1      Bob  30.0  70000.0  Engineering\n",
            "2  Charlie  35.0  70000.0  Engineering\n",
            "3    David  28.0  60000.0           HR\n",
            "4      Eve  28.0  80000.0           HR\n",
            "5    Frank  40.0  55000.0        Sales\n",
            "6    Grace  50.0  85000.0        Sales\n",
            "7     Hank  60.0  90000.0        Sales\n"
          ]
        }
      ]
    },
    {
      "cell_type": "markdown",
      "source": [
        "Removing Duplicates"
      ],
      "metadata": {
        "id": "Nz9f61XqZrIq"
      }
    },
    {
      "cell_type": "code",
      "source": [
        "# Add duplicate rows for demonstration\n",
        "df = pd.concat([df, df.iloc[[0]], df.iloc[[1]]], ignore_index=True)\n",
        "print('Before removing duplicates: \\n', df)\n",
        "# Remove duplicate rows\n",
        "df_no_duplicates = df.drop_duplicates()\n",
        "print('After removing duplicates: \\n', df_no_duplicates)"
      ],
      "metadata": {
        "colab": {
          "base_uri": "https://localhost:8080/"
        },
        "id": "UnYnDTiBZuuO",
        "outputId": "640793e4-c84d-4b6c-95dd-4daae120f181"
      },
      "execution_count": 16,
      "outputs": [
        {
          "output_type": "stream",
          "name": "stdout",
          "text": [
            "Before removing duplicates: \n",
            "       Name   Age   Salary   Department\n",
            "0    Alice  25.0  50000.0           HR\n",
            "1      Bob  30.0      NaN  Engineering\n",
            "2  Charlie  35.0  70000.0  Engineering\n",
            "3    David   NaN  60000.0           HR\n",
            "4      Eve  28.0  80000.0           HR\n",
            "5    Frank  40.0  55000.0        Sales\n",
            "6    Grace  50.0  85000.0        Sales\n",
            "7     Hank  60.0  90000.0        Sales\n",
            "8    Alice  25.0  50000.0           HR\n",
            "9      Bob  30.0      NaN  Engineering\n",
            "After removing duplicates: \n",
            "       Name   Age   Salary   Department\n",
            "0    Alice  25.0  50000.0           HR\n",
            "1      Bob  30.0      NaN  Engineering\n",
            "2  Charlie  35.0  70000.0  Engineering\n",
            "3    David   NaN  60000.0           HR\n",
            "4      Eve  28.0  80000.0           HR\n",
            "5    Frank  40.0  55000.0        Sales\n",
            "6    Grace  50.0  85000.0        Sales\n",
            "7     Hank  60.0  90000.0        Sales\n"
          ]
        }
      ]
    },
    {
      "cell_type": "markdown",
      "source": [
        "Replacing the incorrect values"
      ],
      "metadata": {
        "id": "RpH6jwc9aqST"
      }
    },
    {
      "cell_type": "code",
      "source": [
        "# Replace incorrect values in the 'Department column\n",
        "df_corrected = df.replace({'Department': {'HR': 'Human Resodeces', 'Sales': 'Sale'}})\n",
        "print(df_corrected)\n"
      ],
      "metadata": {
        "colab": {
          "base_uri": "https://localhost:8080/"
        },
        "id": "pr6MkqYha0lS",
        "outputId": "cfd5d9bd-3008-452c-cb7c-76344baf9caf"
      },
      "execution_count": 18,
      "outputs": [
        {
          "output_type": "stream",
          "name": "stdout",
          "text": [
            "      Name   Age   Salary       Department\n",
            "0    Alice  25.0  50000.0  Human Resodeces\n",
            "1      Bob  30.0      NaN      Engineering\n",
            "2  Charlie  35.0  70000.0      Engineering\n",
            "3    David   NaN  60000.0  Human Resodeces\n",
            "4      Eve  28.0  80000.0  Human Resodeces\n",
            "5    Frank  40.0  55000.0             Sale\n",
            "6    Grace  50.0  85000.0             Sale\n",
            "7     Hank  60.0  90000.0             Sale\n",
            "8    Alice  25.0  50000.0  Human Resodeces\n",
            "9      Bob  30.0      NaN      Engineering\n"
          ]
        }
      ]
    },
    {
      "cell_type": "markdown",
      "source": [
        "Ensuring Consistency"
      ],
      "metadata": {
        "id": "ri-mUGlfbyN0"
      }
    },
    {
      "cell_type": "code",
      "source": [
        "# Convert all department names to lowercase for consistency\n",
        "df['Department'] = df['Department'].str.lower()\n",
        "print(df)"
      ],
      "metadata": {
        "colab": {
          "base_uri": "https://localhost:8080/"
        },
        "id": "Ojchlraxb1yJ",
        "outputId": "70de8fdf-b55d-411e-ce10-1b50ba4bffe3"
      },
      "execution_count": 19,
      "outputs": [
        {
          "output_type": "stream",
          "name": "stdout",
          "text": [
            "      Name   Age   Salary   Department\n",
            "0    Alice  25.0  50000.0           hr\n",
            "1      Bob  30.0      NaN  engineering\n",
            "2  Charlie  35.0  70000.0  engineering\n",
            "3    David   NaN  60000.0           hr\n",
            "4      Eve  28.0  80000.0           hr\n",
            "5    Frank  40.0  55000.0        sales\n",
            "6    Grace  50.0  85000.0        sales\n",
            "7     Hank  60.0  90000.0        sales\n",
            "8    Alice  25.0  50000.0           hr\n",
            "9      Bob  30.0      NaN  engineering\n"
          ]
        }
      ]
    },
    {
      "cell_type": "markdown",
      "source": [
        "Min-Max Normalization"
      ],
      "metadata": {
        "id": "BlfhIEyacEUG"
      }
    },
    {
      "cell_type": "code",
      "source": [
        "# Apply Min-Max normalization using the formula\n",
        "df_normalized = df.copy()\n",
        "for col in ['Age', 'Salary']:\n",
        "   df_normalized[col] = (df[col] - df[col].min()) / (df[col].max() - df[col].min())\n",
        "#Print original and normalized values\n",
        "print(\"Original DataFrame:\")\n",
        "print(df)\n",
        "print(\"\\nNormalized DataFrame:\")\n",
        "print(df_normalized)\n"
      ],
      "metadata": {
        "colab": {
          "base_uri": "https://localhost:8080/"
        },
        "id": "iYKHmdpncHoP",
        "outputId": "abb65ddf-2abf-4d23-af76-da811d572f65"
      },
      "execution_count": 20,
      "outputs": [
        {
          "output_type": "stream",
          "name": "stdout",
          "text": [
            "Original DataFrame:\n",
            "      Name   Age   Salary   Department\n",
            "0    Alice  25.0  50000.0           hr\n",
            "1      Bob  30.0      NaN  engineering\n",
            "2  Charlie  35.0  70000.0  engineering\n",
            "3    David   NaN  60000.0           hr\n",
            "4      Eve  28.0  80000.0           hr\n",
            "5    Frank  40.0  55000.0        sales\n",
            "6    Grace  50.0  85000.0        sales\n",
            "7     Hank  60.0  90000.0        sales\n",
            "8    Alice  25.0  50000.0           hr\n",
            "9      Bob  30.0      NaN  engineering\n",
            "\n",
            "Normalized DataFrame:\n",
            "      Name       Age  Salary   Department\n",
            "0    Alice  0.000000   0.000           hr\n",
            "1      Bob  0.142857     NaN  engineering\n",
            "2  Charlie  0.285714   0.500  engineering\n",
            "3    David       NaN   0.250           hr\n",
            "4      Eve  0.085714   0.750           hr\n",
            "5    Frank  0.428571   0.125        sales\n",
            "6    Grace  0.714286   0.875        sales\n",
            "7     Hank  1.000000   1.000        sales\n",
            "8    Alice  0.000000   0.000           hr\n",
            "9      Bob  0.142857     NaN  engineering\n"
          ]
        }
      ]
    },
    {
      "cell_type": "markdown",
      "source": [
        "**Definition:**\n",
        "\n",
        "• Min-max normalization is a technique to rescale the values of a feature to a fixed range, usually [0, 1].\n",
        "\n",
        "• This is done by transforming each value in the feature such that it fits within the specified range\n",
        "\n",
        "**Formula**\n",
        "\n",
        "The formula for min-max normalization is:\n",
        "Xnormalized = X-Xmin / Xmax-Xmin\n",
        "Where:\n",
        "\n",
        "• X is the original value.\n",
        "\n",
        "• Xmin is the minimum value in the feature.\n",
        "\n",
        "• Xmax is the maximum value in the feature.\n",
        "\n",
        "• Xnormalized is the normalized value."
      ],
      "metadata": {
        "id": "tu8Xo8gTcNgW"
      }
    }
  ]
}
