{
  "nbformat": 4,
  "nbformat_minor": 0,
  "metadata": {
    "colab": {
      "provenance": []
    },
    "kernelspec": {
      "name": "python3",
      "display_name": "Python 3"
    },
    "language_info": {
      "name": "python"
    }
  },
  "cells": [
    {
      "cell_type": "markdown",
      "source": [
        "What is Power BI?\n",
        "\n",
        "**-**Power BI is a business analytics tool develeped by Microsoft that enables users to visualized and analyze data with greater speed,efficiency, and understanding.\n",
        "\n",
        "**-**it offers interactive visualizations, business intelligence capablities, and an easy-to-use interface for creating reports and dashboards."
      ],
      "metadata": {
        "id": "LFIFxumG6LTs"
      }
    },
    {
      "cell_type": "markdown",
      "source": [
        "Components of power BI\n",
        "\n",
        "power BI Desktop:windows application creating an recored of data visualization.\n",
        "\n",
        "Power BI Service:SAAS - online software as a service\n",
        "\n",
        "Power BI Mobile Apps:Application used for viewing and interacting with power BI report dashboard on mobile devices.\n",
        "\n",
        "Power BI Report Server: on premises solution  for hosting power BI reports."
      ],
      "metadata": {
        "id": "McjRmy-E7917"
      }
    },
    {
      "cell_type": "markdown",
      "source": [
        "Key features of power BI\n",
        "\n",
        "Data Connectivity-sources-excel,sql,server,Azure,SF\n",
        "\n",
        "Data Transformation:ALLOW the user to tranform the data shape the data,power query editor.\n",
        "\n",
        "Visualization-inbuilt visualization graphs, charts, maps.\n",
        "\n",
        "Dasboards and Reports:basic building parts all theses are added in dashboard it is a reports data exploration.\n",
        "\n",
        "DAX(Data Analysis Expressions):formula language for creating custome and calculation and aggregation."
      ],
      "metadata": {
        "id": "kRHHC76-Bi7Y"
      }
    },
    {
      "cell_type": "markdown",
      "source": [
        "**Benefits of Using Power BI**\n",
        "\n",
        "Ease of use\n",
        "\n",
        "Real-Time Insights\n",
        "\n",
        "Collaboration and Sharing\n",
        "\n",
        "Cost-Effective\n",
        "\n",
        "Integration with Other Tools"
      ],
      "metadata": {
        "id": "EB4INX5fFlsX"
      }
    },
    {
      "cell_type": "markdown",
      "source": [
        "Who Can Benefit from Power BI?\n",
        "\n",
        "Business analysts,data analysts, and data scientists\n",
        "\n",
        "IT professionals\n",
        "\n",
        "Decision-makers and executives"
      ],
      "metadata": {
        "id": "f_tkIicdGMts"
      }
    }
  ]
}